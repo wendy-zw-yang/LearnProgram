{
 "cells": [
  {
   "cell_type": "markdown",
   "metadata": {},
   "source": [
    "# Capture One Stock data "
   ]
  },
  {
   "cell_type": "markdown",
   "metadata": {},
   "source": [
    "## 数据源\n",
    "\n",
    "可以从NetEase(163)上获取股票数据。其接口是：\n",
    "\n",
    "\n",
    "例如，http://quotes.money.163.com/service/chddata.html?code=0601857&start=201701001&end=20171231&fields=TCLOSE;HIGH;LOW;TOPEN;LCLOSE;CHG;PCHG;TURNOVER;VOTURNOVER;VATURNOVER;TCAP;MCAP\n",
    "获取的是股票（中国石油: 601857）从2017-01-01到2017-12-31区间的数据。\n",
    "注意到：code=0601857中，股票代码前面的一位数：0代表沪市；1代表深市\n",
    "\n",
    "**自定义列**\n",
    "\n",
    "<table align=\"center\" width=\"75%\">\n",
    "    <tr bgcolor=\"lightblue\">\n",
    "       <th>code</th>\n",
    "       <th>含义</th>\n",
    "       <th>code</th>\n",
    "       <th>含义</th>\n",
    "       <th>code</th>\n",
    "       <th>含义</th>\n",
    "       <th>code</th>\n",
    "       <th>含义</th>\n",
    "    </tr>\n",
    "    <tr>\n",
    "       <th>TCLOSE</th>\n",
    "       <th>收盘价</th>\n",
    "       <th>HIGH</th>\n",
    "       <th>最高价</th>\n",
    "       <th>LOW</th>\n",
    "       <th>最低价</th>\n",
    "       <th>TOPEN</th>\n",
    "       <th>开盘价</th>\n",
    "    </tr>\n",
    "    <tr>\n",
    "       <th>LCLOSE</th>\n",
    "       <th>前收盘价</th>\n",
    "       <th>CHG</th>\n",
    "       <th>涨跌额</th>\n",
    "       <th>PCHG</th>\n",
    "       <th>涨跌幅</th>\n",
    "       <th>TURNOVER</th>\n",
    "       <th>换手率</th>\n",
    "    </tr>\n",
    "    <tr>\n",
    "       <th>VOTURNOVER</th>\n",
    "       <th>成交量</th>\n",
    "       <th>VATURNOVER</th>\n",
    "       <th>成交金额</th>\n",
    "       <th>TCAP</th>\n",
    "       <th>总市值</th>\n",
    "       <th>MCAP</th>\n",
    "       <th>流通市值</th>\n",
    "    </tr>\n",
    "</table>\n",
    "\n",
    "其中：\n",
    "\n",
    "1. 换手率=成交股数/可流通总股数=成交股数/(流通市值/当日收盘价)：\n",
    "$$ TURNOVER=VOTURNOVER / (MCAP/TCLOSE) $$\n",
    "\n",
    "\n",
    "***"
   ]
  },
  {
   "cell_type": "markdown",
   "metadata": {},
   "source": [
    "## 实现代码"
   ]
  },
  {
   "cell_type": "code",
   "execution_count": null,
   "metadata": {},
   "outputs": [],
   "source": [
    "# import some libaraies\n",
    "import urllib.request,time,urllib.error"
   ]
  },
  {
   "cell_type": "code",
   "execution_count": null,
   "metadata": {},
   "outputs": [],
   "source": [
    "# 先定义一个不经过Proxy来获取数据的方法\n",
    "def get_page(url):  #获取页面数据 without proxy\n",
    "    req=urllib.request.Request(url, headers={\n",
    "        'Connection': 'Keep-Alive',\n",
    "        'Accept': 'text/html, application/xhtml+xml, */*',\n",
    "        'Accept-Language':'zh-CN,zh;q=0.8',\n",
    "        'User-Agent': 'Mozilla/5.0 (Windows NT 6.3; WOW64; Trident/7.0; rv:11.0) like Gecko'\n",
    "    })\n",
    "    opener=urllib.request.urlopen(req)\n",
    "    page=opener.read()\n",
    "    return page"
   ]
  },
  {
   "cell_type": "code",
   "execution_count": null,
   "metadata": {},
   "outputs": [],
   "source": [
    "# 再定义一个经过Proxy来获取数据的方法\n",
    "def get_page_byProxy(url):  #获取页面数据 with proxy\n",
    "    proxy_handler = urllib.request.ProxyHandler({'http': 'http://CNPriProxy.aia.biz:10938/'})\n",
    "    proxy_auth_handler = urllib.request.ProxyBasicAuthHandler()\n",
    "    proxy_auth_handler.add_password('realm', 'host', 'nsnp200', 'yyc1150AIb')\n",
    "    opener = urllib.request.build_opener(proxy_handler, proxy_auth_handler)\n",
    "\n",
    "    req=urllib.request.Request(url, headers={\n",
    "        'Connection': 'Keep-Alive',\n",
    "        'Accept': 'text/html, application/xhtml+xml, */*',\n",
    "        'Accept-Language':'zh-CN,zh;q=0.8',\n",
    "        'User-Agent': 'Mozilla/5.0 (Windows NT 6.3; WOW64; Trident/7.0; rv:11.0) like Gecko'\n",
    "    })\n",
    "    page=opener.open(req).read()\n",
    "    return page\n"
   ]
  },
  {
   "cell_type": "code",
   "execution_count": null,
   "metadata": {},
   "outputs": [],
   "source": [
    "from pandas import DataFrame\n",
    "import numpy as np\n",
    "\n",
    "def get_index_history_byNetease(market,index_temp,startDate,fields):\n",
    "    if market=='sh':\n",
    "        index_id='code=0'+index_temp\n",
    "    if market==\"sz\":\n",
    "        index_id='code=1'+index_temp\n",
    "\n",
    "    fieldsStr=''\n",
    "    #fields=['Date','Code','Name','TCLOSE','HIGH','LOW','TOPEN','LCLOSE','CHG','PCHG','VOTURNOVER','VATURNOVER','TCAP','MCAP']\n",
    "    for eachItem in fields[3:]:\n",
    "        fieldsStr=fieldsStr+eachItem+';'\n",
    "    url='http://quotes.money.163.com/service/chddata.html?'\n",
    "    url=url+\"%s&start=%s&end=%s&fields=%s\" % (index_id,startDate,time.strftime(\"%Y%m%d\"),fieldsStr)\n",
    "    \n",
    "    page=get_page(url).decode('gb18030') #该段获取原始数据\n",
    "    page=page.split('\\r\\n')\n",
    "    col_info=page[0].split(',') #表头数据\n",
    "    index_data=page[1:-1]  #一维数组，每个元素是一行。最后一行是空行，去掉\n",
    "        \n",
    "    index_data=[x.replace(\"'\",'') for x in index_data]  #去掉指数编号前的“'”\n",
    "    index_data=[x.split(',') for x in index_data] # 拆成二维数组\n",
    "    \n",
    "    df=DataFrame(index_data) # 构建dataframe\n",
    "    df.drop(len(fields),axis=1,inplace=True) #去掉最后一列(每行数据的最后以”，“结尾导致的)\n",
    "    \n",
    "    return df\n",
    "   "
   ]
  },
  {
   "cell_type": "code",
   "execution_count": null,
   "metadata": {},
   "outputs": [],
   "source": [
    "fields=['Date','Code','Name','TCLOSE','HIGH','LOW','TOPEN','LCLOSE','CHG','PCHG','TURNOVER','VOTURNOVER','VATURNOVER','TCAP','MCAP']\n",
    "df=get_index_history_byNetease('sz','000837','20110101',fields)\n",
    "df.columns=fields  #设置表头\n",
    "\n",
    "#对数据进行后处理\n",
    "\n",
    "#首先，对于停牌的日期，返回的CHG和PCHG是None,替代为0以便将列转为float类型\n",
    "df.replace(\"None\", '0', inplace = True) \n",
    "df[fields[3:]] = df[fields[3:]].astype(\"float\")\n",
    "\n",
    "#其次，将PCHG和TURNOVER这两个百分数转为实际值\n",
    "df['PCHG']=df['PCHG']/100.0\n",
    "df['TURNOVER']=df['TURNOVER']/100.0\n"
   ]
  },
  {
   "cell_type": "code",
   "execution_count": null,
   "metadata": {},
   "outputs": [],
   "source": [
    "\n",
    "print(df.shape)\n",
    "print(df.describe())\n",
    "print(df.dtypes)\n",
    "\n",
    "# check if the data include any null value\n",
    "missing_data = df.isnull()\n",
    "missing_data.describe()"
   ]
  },
  {
   "cell_type": "code",
   "execution_count": null,
   "metadata": {},
   "outputs": [],
   "source": [
    "df.head(10)"
   ]
  },
  {
   "cell_type": "code",
   "execution_count": null,
   "metadata": {},
   "outputs": [],
   "source": [
    "#最后，用encoding=utf-8的格式保存为csv文件或者便于阅读的Excel文件\n",
    "\n",
    "df.to_csv('000837.csv',encoding='utf-8')\n",
    "df.to_excel('000837.xls',encoding='utf-8')"
   ]
  },
  {
   "cell_type": "markdown",
   "metadata": {},
   "source": [
    "## 下面是导入代码表来实现批量的沪深股票数据下载\n",
    "\n",
    "沪深股市的股票代码可以用招商证券的客户端导出为Excel文件，然后整理成只含代码和名称的两列数据，注意，末行数据需要清理掉无效的文字。\n",
    "股指代码可以在NetEase的股票分析网页获得"
   ]
  },
  {
   "cell_type": "code",
   "execution_count": null,
   "metadata": {},
   "outputs": [],
   "source": [
    "import pandas as pd\n",
    "sh_mkdf=pd.read_csv('SH-market-S.csv')\n",
    "sz_mkdf=pd.read_csv('SZ-market-S.csv')\n",
    "#sh_mkdf=DataFrame.from_csv('SH-market.csv')\n",
    "#sz_mkdf=DataFrame.from_csv('SZ-market.csv')"
   ]
  },
  {
   "cell_type": "code",
   "execution_count": null,
   "metadata": {},
   "outputs": [],
   "source": [
    "sz_mkdf.head()\n"
   ]
  },
  {
   "cell_type": "code",
   "execution_count": null,
   "metadata": {},
   "outputs": [],
   "source": [
    "for eachStockCode in sh_mkdf['Code']:\n",
    "    strCode= \"%06d\" % eachStockCode\n",
    "    df=get_index_history_byNetease('sh',strCode,'20110101',fields)\n",
    "    df.columns=fields  #设置表头\n",
    "\n",
    "    #对数据进行后处理\n",
    "\n",
    "    #首先，对于停牌的日期，返回的CHG和PCHG是None,替代为0以便将列转为float类型\n",
    "    df.replace(\"None\", '0', inplace = True) \n",
    "    df[fields[3:]] = df[fields[3:]].astype(\"float\")\n",
    "\n",
    "    #其次，将PCHG和TURNOVER这两个百分数转为实际值\n",
    "    df['PCHG']=df['PCHG']/100.0\n",
    "    df['TURNOVER']=df['TURNOVER']/100.0\n",
    "    fileName='SH-Data/%s.xls' % (strCode)\n",
    "    df.to_excel(fileName,encoding='utf-8')\n"
   ]
  },
  {
   "cell_type": "code",
   "execution_count": null,
   "metadata": {},
   "outputs": [],
   "source": [
    "# 遍历某些行列\n",
    "for indexs in df.index:\n",
    "    print(df.loc[indexs].values[3:6])"
   ]
  },
  {
   "cell_type": "code",
   "execution_count": null,
   "metadata": {},
   "outputs": [],
   "source": []
  }
 ],
 "metadata": {
  "kernelspec": {
   "display_name": "Python 3",
   "language": "python",
   "name": "python3"
  },
  "language_info": {
   "codemirror_mode": {
    "name": "ipython",
    "version": 3
   },
   "file_extension": ".py",
   "mimetype": "text/x-python",
   "name": "python",
   "nbconvert_exporter": "python",
   "pygments_lexer": "ipython3",
   "version": "3.6.8"
  }
 },
 "nbformat": 4,
 "nbformat_minor": 2
}
