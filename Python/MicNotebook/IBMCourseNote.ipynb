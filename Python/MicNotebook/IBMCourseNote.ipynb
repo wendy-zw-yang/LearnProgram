{
 "cells": [
  {
   "cell_type": "markdown",
   "metadata": {},
   "source": [
    "# IBM training on Machine Learning"
   ]
  },
  {
   "cell_type": "markdown",
   "metadata": {},
   "source": [
    "## firstly, please begin with \"hello world\""
   ]
  },
  {
   "cell_type": "code",
   "execution_count": 103,
   "metadata": {
    "scrolled": true
   },
   "outputs": [
    {
     "name": "stdout",
     "output_type": "stream",
     "text": [
      "Hello world\n"
     ]
    }
   ],
   "source": [
    "print('Hello world')\n"
   ]
  },
  {
   "cell_type": "markdown",
   "metadata": {},
   "source": [
    "## then, try some complicate codes here:"
   ]
  },
  {
   "cell_type": "code",
   "execution_count": 104,
   "metadata": {
    "scrolled": true
   },
   "outputs": [
    {
     "data": {
      "image/png": "[encoded data removed]",
      "text/plain": [
       "<Figure size 432x288 with 1 Axes>"
      ]
     },
     "metadata": {
      "needs_background": "light"
     },
     "output_type": "display_data"
    }
   ],
   "source": [
    "from __future__ import print_function\n",
    "import numpy as np\n",
    "# import matplotlib\n",
    "# matplotlib.use('agg')\n",
    "import matplotlib.pyplot as plt\n",
    "\n",
    "#import tensorflow as tf\n",
    "#from tensorflow.contrib.timeseries.python.timeseries import NumpyReader\n",
    "\n",
    "x = np.array(range(1000))\n",
    "noise = np.random.uniform(-0.2, 0.2, 1000)\n",
    "y = np.sin(np.pi * x / 100) + x / 200. + noise\n",
    "plt.plot(x,y)\n",
    "plt.show()\n",
    "#plt.savefig('timeseries_y.jpg')"
   ]
  },
  {
   "cell_type": "markdown",
   "metadata": {},
   "source": [
    "Above is a python code for generate a sin curve with random noise"
   ]
  },
  {
   "cell_type": "markdown",
   "metadata": {},
   "source": [
    "## Let's learn some markdown label"
   ]
  },
  {
   "cell_type": "markdown",
   "metadata": {},
   "source": [
    "**Bold text**: Enbrace with \\**\n",
    "\n",
    "*Italic text*: Enbrace with \\*\n",
    "\n",
    "***Bold and Italic text***: Enbrace with \\***\n"
   ]
  },
  {
   "cell_type": "markdown",
   "metadata": {},
   "source": [
    "**list**: start with +/-/* and a space before list item\n",
    "- listitem1\n",
    "- listitem2\n",
    "   - item2.1\n",
    "   + item2.2\n",
    "   * item 2.3\n",
    "- listitem 3   "
   ]
  },
  {
   "cell_type": "markdown",
   "metadata": {},
   "source": [
    "**Quotation**: start with >\n",
    "> **Behine every great fortune, there is a sin!**\n"
   ]
  },
  {
   "cell_type": "markdown",
   "metadata": {},
   "source": [
    "**Table**\n",
    "\n",
    "***简易版***\n",
    "\n",
    "|姓名|技能|排行|\n",
    "|--|:--:|--:|\n",
    "|刘备|哭|大哥|\n",
    "|关羽|打|二哥|\n",
    "|张飞|骂|三弟|\n",
    "\n",
    "直接按照HTML代码写：\n",
    "<table width=\"70%\">\n",
    "   <tr>\n",
    "       <th>姓名</th>\n",
    "       <th>技能</th>\n",
    "       <th>排行</th>\n",
    "   </tr>\n",
    "   <tr>\n",
    "       <td>刘备</td>\n",
    "       <td>哭</td>\n",
    "       <td>大哥</td>\n",
    "    </tr>\n",
    "   <tr>\n",
    "       <td>关羽</td>\n",
    "       <td>打</td>\n",
    "       <td>二哥</td>\n",
    "    </tr>\n",
    "   <tr>\n",
    "       <td>张飞</td>\n",
    "       <td>骂</td>\n",
    "       <td>三弟</td>\n",
    "    </tr>\n",
    "</table>"
   ]
  },
  {
   "cell_type": "markdown",
   "metadata": {},
   "source": [
    "**Code**\n",
    "```\n",
    "<javascript>\n",
    "    sum=0;\n",
    "    for(i=1;i<101;i++)\n",
    "        sum+=i;\n",
    "</javascript>\n",
    "```\n"
   ]
  },
  {
   "cell_type": "markdown",
   "metadata": {},
   "source": [
    "**Formule**\n",
    "\n",
    "$$ f(x) = a\\sqrt{x^3+bx^2+c} $$ \n",
    "$$ \\hat{Y} = \\frac1{1+e^{\\beta_1(X-\\beta_2)}} $$ \n",
    "\n",
    "$$\n",
    "Probability =  P(Y=1|X) = 𝜎({θ^TX}) = \\frac{e^{θ^TX}}{1+e^{θ^TX}} \n",
    "$$"
   ]
  },
  {
   "cell_type": "markdown",
   "metadata": {},
   "source": [
    "# Let's come back to learning."
   ]
  },
  {
   "cell_type": "markdown",
   "metadata": {},
   "source": [
    "## Seahorse"
   ]
  },
  {
   "cell_type": "markdown",
   "metadata": {},
   "source": [
    "The seahorse is an opensource tools. A machine training can be completed with a drag-and-drop manner, yes, just like AliCloud's max-computing. Here is the official website:\n",
    "> <a href=\"https://seahorse.deepsense.ai/getting_started.html\"> Seahorse's getting start! </a>"
   ]
  },
  {
   "cell_type": "markdown",
   "metadata": {},
   "source": [
    "# Python basic"
   ]
  },
  {
   "cell_type": "markdown",
   "metadata": {},
   "source": [
    "Python testing codes\n"
   ]
  },
  {
   "cell_type": "code",
   "execution_count": 105,
   "metadata": {},
   "outputs": [
    {
     "name": "stdout",
     "output_type": "stream",
     "text": [
      "a\n"
     ]
    }
   ],
   "source": [
    "A=('a','b','c')\n",
    "print(A[0])"
   ]
  },
  {
   "cell_type": "code",
   "execution_count": 106,
   "metadata": {},
   "outputs": [
    {
     "data": {
      "text/plain": [
       "['a', ['c', 'b']]"
      ]
     },
     "execution_count": 106,
     "metadata": {},
     "output_type": "execute_result"
    }
   ],
   "source": [
    "myList=['a']\n",
    "myList.append(['c','b'])\n",
    "myList"
   ]
  },
  {
   "cell_type": "markdown",
   "metadata": {},
   "source": [
    "Tuples (元组), List and Dictionary"
   ]
  },
  {
   "cell_type": "code",
   "execution_count": 107,
   "metadata": {},
   "outputs": [
    {
     "name": "stdout",
     "output_type": "stream",
     "text": [
      "['Michael', 'Jackson']\n",
      "{1, 2}\n"
     ]
    }
   ],
   "source": [
    "list1=['Michael Jackson',10.5,2]\n",
    "list1.append([1,2])\n",
    "list1.extend([8])\n",
    "\n",
    "print(list1[0].split(\" \"))\n",
    "\n",
    "set1={1,1,2}\n",
    "print(set1)\n",
    "\n"
   ]
  },
  {
   "cell_type": "code",
   "execution_count": 108,
   "metadata": {},
   "outputs": [
    {
     "name": "stdout",
     "output_type": "stream",
     "text": [
      "Chris\n"
     ]
    },
    {
     "data": {
      "text/plain": [
       "dict_values(['Michael', 'Chris'])"
      ]
     },
     "execution_count": 108,
     "metadata": {},
     "output_type": "execute_result"
    }
   ],
   "source": [
    "dic1={\"key1\":'Michael',\"key2\":\"Chris\"}\n",
    "\n",
    "if 'key2' in dic1:\n",
    "    print(dic1[\"key2\"])\n",
    "elif 'key3' in dic1:\n",
    "    print(dic1[\"key3\"])\n",
    "else:\n",
    "    print(dic1[\"key1\"])\n",
    "    \n",
    "dic1['key3']='Wendy'\n",
    "del(dic1['key3'])\n",
    "\n",
    "dic1.keys()\n",
    "dic1.values()\n"
   ]
  },
  {
   "cell_type": "code",
   "execution_count": 109,
   "metadata": {},
   "outputs": [
    {
     "data": {
      "text/plain": [
       "[1, 2, 3, 4, 5, 6, 7, 8]"
      ]
     },
     "execution_count": 109,
     "metadata": {},
     "output_type": "execute_result"
    }
   ],
   "source": [
    "k=[1,2,3,4,5,6,7,8]\n",
    "k"
   ]
  },
  {
   "cell_type": "code",
   "execution_count": 110,
   "metadata": {},
   "outputs": [
    {
     "data": {
      "text/plain": [
       "4"
      ]
     },
     "execution_count": 110,
     "metadata": {},
     "output_type": "execute_result"
    }
   ],
   "source": [
    "k.index(5)"
   ]
  },
  {
   "cell_type": "code",
   "execution_count": 111,
   "metadata": {},
   "outputs": [
    {
     "data": {
      "text/plain": [
       "[1, 2, 3, 4, 5, 6, 7, 8]"
      ]
     },
     "execution_count": 111,
     "metadata": {},
     "output_type": "execute_result"
    }
   ],
   "source": [
    "sorted(k)"
   ]
  },
  {
   "cell_type": "code",
   "execution_count": 112,
   "metadata": {},
   "outputs": [
    {
     "name": "stdout",
     "output_type": "stream",
     "text": [
      "*\n",
      "**\n",
      "***\n",
      "****\n",
      "*****\n",
      "******\n"
     ]
    }
   ],
   "source": [
    "for i in range(0,6):\n",
    "    s=''\n",
    "    for j in range(0,i+1):\n",
    "        s=s+'*'\n",
    "    print(s)\n"
   ]
  },
  {
   "cell_type": "markdown",
   "metadata": {},
   "source": [
    "**How to use numpy**"
   ]
  },
  {
   "cell_type": "code",
   "execution_count": 132,
   "metadata": {},
   "outputs": [
    {
     "name": "stdout",
     "output_type": "stream",
     "text": [
      "[3 4 5 6 7 8 9]\n"
     ]
    },
    {
     "data": {
      "text/plain": [
       "array([[ 2,  4,  6],\n",
       "       [ 4,  6,  8],\n",
       "       [ 6,  8, 10]])"
      ]
     },
     "execution_count": 132,
     "metadata": {},
     "output_type": "execute_result"
    }
   ],
   "source": [
    "import numpy as np\n",
    "\n",
    "# present a vector\n",
    "v=np.array([1,2,3])\n",
    "v\n",
    "\n",
    "# using range\n",
    "y=np.array(range(3,10))\n",
    "print(y)\n",
    "\n",
    "# build a 3x3 matrix\n",
    "A=np.array([[1,2,3],[2,3,4],[3,4,5]])\n",
    "# build a 单位矩阵\n",
    "UM=np.array([[1,0,0],[0,1,0],[0,0,1]])\n",
    "A.dot(2*UM)"
   ]
  },
  {
   "cell_type": "code",
   "execution_count": 126,
   "metadata": {},
   "outputs": [
    {
     "name": "stdout",
     "output_type": "stream",
     "text": [
      "[0 0 0 0 0]\n",
      "[0 2 0 2 0]\n"
     ]
    }
   ],
   "source": [
    "# 对位相乘\n",
    "a=np.array([0,1,0,1,0])\n",
    "b=np.array([1,0,1,0,1])\n",
    "print(a*b)\n",
    "print(2*a)"
   ]
  },
  {
   "cell_type": "code",
   "execution_count": 116,
   "metadata": {},
   "outputs": [
    {
     "data": {
      "text/plain": [
       "0"
      ]
     },
     "execution_count": 116,
     "metadata": {},
     "output_type": "execute_result"
    }
   ],
   "source": [
    "# 矢量相乘/矩阵相乘\n",
    "a=np.array([0,1])\n",
    "b=np.array([1,0])\n",
    "\n",
    "np.dot(a,b)"
   ]
  }
 ],
 "metadata": {
  "kernelspec": {
   "display_name": "Python 3",
   "language": "python",
   "name": "python3"
  },
  "language_info": {
   "codemirror_mode": {
    "name": "ipython",
    "version": 3
   },
   "file_extension": ".py",
   "mimetype": "text/x-python",
   "name": "python",
   "nbconvert_exporter": "python",
   "pygments_lexer": "ipython3",
   "version": "3.11.4"
  }
 },
 "nbformat": 4,
 "nbformat_minor": 2
}
